{
 "cells": [
  {
   "cell_type": "code",
   "execution_count": null,
   "metadata": {},
   "outputs": [],
   "source": [
    "#Importing libraries\n",
    "import scipy\n",
    "import os\n",
    "import numpy as np\n",
    "import matplotlib.pyplot as plt\n",
    "from matplotlib.image import imread\n",
    "import random\n"
   ]
  },
  {
   "cell_type": "code",
   "execution_count": null,
   "metadata": {},
   "outputs": [],
   "source": [
    "#loading dataset\n",
    "\n",
    "my_data_dir = 'C:/Users/shrut/OneDrive/Desktop/Eco Tech/archive/Garbage classification/Garbage classification' #enter path to dataset here \n",
    "os.listdir(my_data_dir) \n",
    "\n"
   ]
  },
  {
   "cell_type": "code",
   "execution_count": null,
   "metadata": {},
   "outputs": [],
   "source": [
    "test_path = my_data_dir+'/test/'\n",
    "train_path = my_data_dir+'/train/'\n"
   ]
  },
  {
   "cell_type": "code",
   "execution_count": null,
   "metadata": {},
   "outputs": [],
   "source": [
    "#sample image\n",
    "categories = os.listdir(train_path)\n",
    "random_category= random.choice(categories)\n",
    "random_category_dir = os.path.join(train_path, random_category)\n",
    "category_files = os.listdir(random_category_dir)\n",
    "random_sample_filename = random.choice(category_files)\n",
    "category_files = os.listdir(random_category_dir)\n",
    "\n",
    "sample_path= os.path.join(random_category_dir, random_sample_filename)\n",
    "sample_img=imread(sample_path)\n",
    "plt.imshow(sample_img)"
   ]
  },
  {
   "cell_type": "code",
   "execution_count": null,
   "metadata": {},
   "outputs": [],
   "source": [
    "from tensorflow.keras.preprocessing.image import ImageDataGenerator\n",
    "image_gen = ImageDataGenerator(rotation_range=20,\n",
    "                               width_shift_range=0.10, \n",
    "                               height_shift_range=0.10, \n",
    "                               rescale=1/255, \n",
    "                               shear_range=0.1, \n",
    "                               zoom_range=0.1, \n",
    "                               horizontal_flip=True, \n",
    "                               fill_mode='nearest' \n",
    "                              )"
   ]
  },
  {
   "cell_type": "code",
   "execution_count": null,
   "metadata": {},
   "outputs": [],
   "source": [
    "image_gen.flow_from_directory(test_path)"
   ]
  },
  {
   "cell_type": "code",
   "execution_count": null,
   "metadata": {},
   "outputs": [],
   "source": [
    "image_gen.flow_from_directory(train_path)"
   ]
  },
  {
   "cell_type": "code",
   "execution_count": null,
   "metadata": {},
   "outputs": [],
   "source": [
    "#loading libraries\n",
    "\n",
    "from tensorflow.keras.models import Sequential\n",
    "from tensorflow.keras.layers import Activation, Dropout, Flatten, Dense, Conv2D, MaxPooling2D"
   ]
  },
  {
   "cell_type": "code",
   "execution_count": null,
   "metadata": {},
   "outputs": [],
   "source": [
    "image_shape=(32,32,1)\n",
    "\n",
    "#model\n",
    "\n",
    "model= Sequential()\n",
    "model.add(Conv2D(filters=32, kernel_size=(3,3),input_shape=image_shape, activation='relu',))\n",
    "model.add(MaxPooling2D(pool_size=(2, 2)))\n",
    "\n",
    "model.add(Conv2D(filters=64, kernel_size=(3,3),input_shape=image_shape, activation='relu',))\n",
    "model.add(MaxPooling2D(pool_size=(2, 2)))\n",
    "\n",
    "model.add(Conv2D(filters=64, kernel_size=(3,3),input_shape=image_shape, activation='relu',))\n",
    "model.add(MaxPooling2D(pool_size=(2, 2)))\n",
    "\n",
    "\n",
    "model.add(Flatten())\n",
    "\n",
    "\n",
    "model.add(Dense(128))\n",
    "model.add(Activation('relu'))\n",
    "\n",
    "# Dropouts help reduce overfitting by randomly turning neurons off during training.\n",
    "# Here we say randomly turn off 50% of neurons.\n",
    "model.add(Dropout(0.5))\n",
    "\n",
    "# Last layer, remember its multi-class classification so we use sigmoid\n",
    "model.add(Dense(2))\n",
    "model.add(Activation('softmax'))\n",
    "\n",
    "model.compile(loss='categorical_crossentropy',\n",
    "              optimizer='adam',\n",
    "              metrics=['accuracy'])"
   ]
  },
  {
   "cell_type": "code",
   "execution_count": null,
   "metadata": {},
   "outputs": [],
   "source": [
    "model.summary()"
   ]
  },
  {
   "cell_type": "code",
   "execution_count": null,
   "metadata": {},
   "outputs": [],
   "source": [
    "from tensorflow.keras.callbacks import EarlyStopping\n",
    "early_stop = EarlyStopping(patience=5, monitor='val_loss')"
   ]
  },
  {
   "cell_type": "code",
   "execution_count": null,
   "metadata": {},
   "outputs": [],
   "source": [
    "batch_size = 16\n",
    "image_shape=(32,32,1)\n",
    "train_image_gen = image_gen.flow_from_directory(train_path,\n",
    "                                               target_size=image_shape[:2],\n",
    "                                                color_mode='grayscale',\n",
    "                                               batch_size=batch_size,\n",
    "                                               class_mode='categorical')"
   ]
  },
  {
   "cell_type": "code",
   "execution_count": null,
   "metadata": {},
   "outputs": [],
   "source": [
    "test_image_gen = image_gen.flow_from_directory(test_path,\n",
    "                                               target_size=image_shape[:2],\n",
    "                                               color_mode='grayscale',\n",
    "                                               batch_size=batch_size,\n",
    "                                               class_mode='categorical',shuffle=False)"
   ]
  },
  {
   "cell_type": "code",
   "execution_count": null,
   "metadata": {},
   "outputs": [],
   "source": [
    "train_image_gen.class_indices"
   ]
  },
  {
   "cell_type": "code",
   "execution_count": null,
   "metadata": {},
   "outputs": [],
   "source": [
    "\n",
    "import warnings\n",
    "import scipy\n",
    "warnings.filterwarnings('ignore')\n",
    "results = model.fit(train_image_gen,epochs=80,\n",
    "                              validation_data=test_image_gen,\n",
    "                             callbacks=[early_stop])"
   ]
  },
  {
   "cell_type": "code",
   "execution_count": null,
   "metadata": {},
   "outputs": [],
   "source": [
    "from tensorflow.keras.preprocessing import image\n",
    "y_pred = np.argmax(model.predict(test_image_gen), axis=-1)\n",
    "# y_pred = np.round(y_pred).astype(int)\n",
    "# pred_probabilities = model.predict_classes(test_image_gen)\n",
    "print(y_pred)"
   ]
  },
  {
   "cell_type": "code",
   "execution_count": null,
   "metadata": {},
   "outputs": [],
   "source": [
    "from sklearn.metrics import classification_report,confusion_matrix\n",
    "print(classification_report(test_image_gen.classes,y_pred))"
   ]
  },
  {
   "cell_type": "code",
   "execution_count": null,
   "metadata": {},
   "outputs": [],
   "source": [
    "import cv2\n",
    "\n",
    "# Read the sample image as grayscale\n",
    "sample_img = cv2.imread(sample_path, cv2.IMREAD_GRAYSCALE)\n",
    "\n",
    "# Resize the image to the desired input shape (32x32)\n",
    "sample_img_resized = cv2.resize(sample_img, (32, 32))\n",
    "\n",
    "# Reshape the image to (1, 32, 32, 1)\n",
    "sample_img_reshaped = sample_img_resized.reshape(1, 32, 32, 1)\n",
    "\n",
    "# Now you can make predictions with the reshaped grayscale image\n",
    "pred = model.predict(sample_img_reshaped)\n",
    "\n",
    "pred = np.argmax(pred)\n",
    "\n",
    "if (pred==1):\n",
    "  print ('trash')\n",
    "elif(pred==0) :\n",
    "  print ('plastic')\n"
   ]
  },
  {
   "cell_type": "code",
   "execution_count": null,
   "metadata": {},
   "outputs": [],
   "source": [
    "import tensorflow\n",
    "\n",
    "tensorflow.keras.models.save_model(model,'C:/Users/shrut/OneDrive/Desktop/Eco Tech')\n",
    "\n",
    "converter= tensorflow.lite.TFLiteConverter.from_keras_model(model=model)\n",
    "                                    \n",
    "model_tflite=converter.convert()\n",
    "\n",
    "open(\"trash_rec.tflite\",'wb').write(model_tflite)"
   ]
  }
 ],
 "metadata": {
  "kernelspec": {
   "display_name": "Python 3",
   "language": "python",
   "name": "python3"
  },
  "language_info": {
   "codemirror_mode": {
    "name": "ipython",
    "version": 3
   },
   "file_extension": ".py",
   "mimetype": "text/x-python",
   "name": "python",
   "nbconvert_exporter": "python",
   "pygments_lexer": "ipython3",
   "version": "3.11.4"
  },
  "orig_nbformat": 4
 },
 "nbformat": 4,
 "nbformat_minor": 2
}
